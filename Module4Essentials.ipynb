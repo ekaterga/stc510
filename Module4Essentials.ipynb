{
 "cells": [
  {
   "cell_type": "code",
   "execution_count": 10,
   "id": "ff7ede22",
   "metadata": {},
   "outputs": [],
   "source": [
    "import csv\n",
    "from time import sleep\n",
    "from selenium import webdriver\n",
    "from selenium.webdriver.common.keys import Keys\n",
    "from selenium.webdriver.common.by import By\n",
    "from selenium.webdriver.support.ui import WebDriverWait\n",
    "from selenium.webdriver.support import expected_conditions as EC"
   ]
  },
  {
   "cell_type": "code",
   "execution_count": 3,
   "id": "b013bb88",
   "metadata": {},
   "outputs": [],
   "source": [
    "EDGELOC = r'C:\\Users\\eleni\\Downloads\\msedgedriver.exe'"
   ]
  },
  {
   "cell_type": "code",
   "execution_count": 4,
   "id": "02268533",
   "metadata": {},
   "outputs": [],
   "source": [
    "UNAME = 'elenikat2001@live.com'\n",
    "UPASS = '12Blackbelt'\n",
    "SITEURL = \"https://mastodon.social/auth/sign_in\""
   ]
  },
  {
   "cell_type": "code",
   "execution_count": 5,
   "id": "be06d97d",
   "metadata": {},
   "outputs": [],
   "source": [
    "keyword = 'sunday'"
   ]
  },
  {
   "cell_type": "code",
   "execution_count": 7,
   "id": "c1f24c56",
   "metadata": {},
   "outputs": [],
   "source": [
    "driver = webdriver.Edge(executable_path=EDGELOC)"
   ]
  },
  {
   "cell_type": "code",
   "execution_count": 8,
   "id": "922b6831",
   "metadata": {},
   "outputs": [],
   "source": [
    "driver.get(SITEURL)"
   ]
  },
  {
   "cell_type": "code",
   "execution_count": 11,
   "id": "3f540fb1",
   "metadata": {},
   "outputs": [],
   "source": [
    "sleep (10)\n",
    "WebDriverWait(driver, 10).until(EC.presence_of_element_located((By.ID, \"user_email\"))).send_keys(UNAME)"
   ]
  },
  {
   "cell_type": "code",
   "execution_count": 12,
   "id": "24b15ad5",
   "metadata": {},
   "outputs": [],
   "source": [
    "password_element = WebDriverWait(driver, 10).until(EC.presence_of_element_located((By.ID, \"user_password\")))\n",
    "password_element.send_keys(UPASS)\n",
    "sleep(10)\n",
    "password_element.send_keys(Keys.RETURN)\n",
    "sleep(10)"
   ]
  },
  {
   "cell_type": "code",
   "execution_count": 14,
   "id": "8c6117a4",
   "metadata": {},
   "outputs": [],
   "source": [
    "sleep(10)\n",
    "search_button = WebDriverWait(driver, 10).until(EC.element_to_be_clickable((By.CSS_SELECTOR, \"a.button.button-secondary\")))\n",
    "search_button.click()\n",
    "search_box = WebDriverWait(driver, 10).until(\n",
    "    EC.presence_of_element_located((By.CSS_SELECTOR, \"a.button.button-secondary\"))\n",
    ")"
   ]
  },
  {
   "cell_type": "code",
   "execution_count": 15,
   "id": "56f0de08",
   "metadata": {},
   "outputs": [],
   "source": [
    "sleep(10)\n",
    "search_box = WebDriverWait(driver, 10).until(\n",
    "    EC.presence_of_element_located((By.CSS_SELECTOR, \"input.search__input\"))\n",
    ")\n",
    "search_box.send_keys(keyword + Keys.RETURN)"
   ]
  },
  {
   "cell_type": "code",
   "execution_count": 17,
   "id": "1791736e",
   "metadata": {},
   "outputs": [],
   "source": [
    "sleep(10)\n",
    "statuses = driver.find_elements(By.CSS_SELECTOR, '.status__content')\n",
    "data = [(status.text,) for status in statuses]"
   ]
  },
  {
   "cell_type": "code",
   "execution_count": 18,
   "id": "27dd76af",
   "metadata": {},
   "outputs": [],
   "source": [
    "with open('search_results.csv', 'w', newline='', encoding='utf-8') as file:\n",
    "    writer = csv.writer(file)\n",
    "    writer.writerow(['Status'])\n",
    "    writer.writerows(data)"
   ]
  }
 ],
 "metadata": {
  "kernelspec": {
   "display_name": "Python 3 (ipykernel)",
   "language": "python",
   "name": "python3"
  },
  "language_info": {
   "codemirror_mode": {
    "name": "ipython",
    "version": 3
   },
   "file_extension": ".py",
   "mimetype": "text/x-python",
   "name": "python",
   "nbconvert_exporter": "python",
   "pygments_lexer": "ipython3",
   "version": "3.11.5"
  }
 },
 "nbformat": 4,
 "nbformat_minor": 5
}

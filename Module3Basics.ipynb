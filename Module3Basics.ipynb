{
  "nbformat": 4,
  "nbformat_minor": 0,
  "metadata": {
    "colab": {
      "provenance": [],
      "authorship_tag": "ABX9TyNwGeGtjfDpRYklrvwUKkj3",
      "include_colab_link": true
    },
    "kernelspec": {
      "name": "python3",
      "display_name": "Python 3"
    },
    "language_info": {
      "name": "python"
    }
  },
  "cells": [
    {
      "cell_type": "markdown",
      "metadata": {
        "id": "view-in-github",
        "colab_type": "text"
      },
      "source": [
        "<a href=\"https://colab.research.google.com/github/ekaterga/stc510/blob/main/Module3Basics.ipynb\" target=\"_parent\"><img src=\"https://colab.research.google.com/assets/colab-badge.svg\" alt=\"Open In Colab\"/></a>"
      ]
    },
    {
      "cell_type": "markdown",
      "source": [
        "For this assignment I started to analyze the data in different ways in order to get a feel on what I wanted to research further. I ended up focuising on different metrics surrounding crimes in single family homes since that was the most popular premise type. Now reviewing the assingment I see that I missed that it was the major portion of it so I apologize for all the extra code. I have notated where I started focusing on single family homes."
      ],
      "metadata": {
        "id": "2d6DlWGnuWb6"
      }
    },
    {
      "cell_type": "code",
      "source": [
        "import numpy as np\n",
        "import matplotlib.pyplot as plt\n",
        "import pandas as pd"
      ],
      "metadata": {
        "id": "yHf59K0KCdDC"
      },
      "execution_count": 1,
      "outputs": []
    },
    {
      "cell_type": "code",
      "source": [
        "crime_data = pd.read_csv('crimestat.csv', delimiter=',', encoding='utf-8', error_bad_lines=False)"
      ],
      "metadata": {
        "colab": {
          "base_uri": "https://localhost:8080/"
        },
        "id": "kHkBsmLeuRVJ",
        "outputId": "8ef4f3ac-31da-4844-87f4-af62f929aace"
      },
      "execution_count": 2,
      "outputs": [
        {
          "output_type": "stream",
          "name": "stderr",
          "text": [
            "<ipython-input-2-cb1fa33a7554>:1: FutureWarning: The error_bad_lines argument has been deprecated and will be removed in a future version. Use on_bad_lines in the future.\n",
            "\n",
            "\n",
            "  crime_data = pd.read_csv('crimestat.csv', delimiter=',', encoding='utf-8', error_bad_lines=False)\n",
            "<ipython-input-2-cb1fa33a7554>:1: DtypeWarning: Columns (0) have mixed types. Specify dtype option on import or set low_memory=False.\n",
            "  crime_data = pd.read_csv('crimestat.csv', delimiter=',', encoding='utf-8', error_bad_lines=False)\n"
          ]
        }
      ]
    },
    {
      "cell_type": "code",
      "source": [
        "crime_data = pd.read_csv('crimestat.csv', delimiter=',', encoding='utf-8', low_memory=False)"
      ],
      "metadata": {
        "id": "Yze6sw5Tu0sm"
      },
      "execution_count": 3,
      "outputs": []
    },
    {
      "cell_type": "markdown",
      "source": [
        "At first I was curious to see how many of each crime category listed so I pulled those numbers. I also looked at the amount of crimes committed in each premise type and each zip code."
      ],
      "metadata": {
        "id": "v4K9jhm11iFz"
      }
    },
    {
      "cell_type": "code",
      "source": [
        "category_counts = crime_data['UCR CRIME CATEGORY'].value_counts()"
      ],
      "metadata": {
        "id": "qew1g3V20tF4"
      },
      "execution_count": 4,
      "outputs": []
    },
    {
      "cell_type": "code",
      "source": [
        "category_counts"
      ],
      "metadata": {
        "colab": {
          "base_uri": "https://localhost:8080/"
        },
        "id": "EXryl8ER3QP6",
        "outputId": "4599f012-ee53-4882-eb61-d0a13e580c65"
      },
      "execution_count": 5,
      "outputs": [
        {
          "output_type": "execute_result",
          "data": {
            "text/plain": [
              "LARCENY-THEFT                            66216\n",
              "BURGLARY                                 23646\n",
              "MOTOR VEHICLE THEFT                      14391\n",
              "DRUG OFFENSE                              9572\n",
              "AGGRAVATED ASSAULT                        9306\n",
              "ROBBERY                                   5640\n",
              "RAPE                                      1981\n",
              "ARSON                                      634\n",
              "MURDER AND NON-NEGLIGENT MANSLAUGHTER      289\n",
              "Name: UCR CRIME CATEGORY, dtype: int64"
            ]
          },
          "metadata": {},
          "execution_count": 5
        }
      ]
    },
    {
      "cell_type": "markdown",
      "source": [
        "I also thought it would be usefull to look at these results in a pie chart for better visualization on the comparison of frequencies for each crime"
      ],
      "metadata": {
        "id": "PRyJnRuJ3Usc"
      }
    },
    {
      "cell_type": "code",
      "source": [
        "category_counts.plot(kind='pie',subplots=True)"
      ],
      "metadata": {
        "colab": {
          "base_uri": "https://localhost:8080/",
          "height": 423
        },
        "id": "Pkq_a7Zl1CSD",
        "outputId": "4480549d-086a-48cd-85f8-243f92716f7d"
      },
      "execution_count": 6,
      "outputs": [
        {
          "output_type": "execute_result",
          "data": {
            "text/plain": [
              "array([<Axes: ylabel='UCR CRIME CATEGORY'>], dtype=object)"
            ]
          },
          "metadata": {},
          "execution_count": 6
        },
        {
          "output_type": "display_data",
          "data": {
            "text/plain": [
              "<Figure size 640x480 with 1 Axes>"
            ],
            "image/png": "[encoded data removed]"
          },
          "metadata": {}
        }
      ]
    },
    {
      "cell_type": "code",
      "source": [
        "premise_counts = crime_data['PREMISE TYPE'].value_counts()"
      ],
      "metadata": {
        "id": "4HWZOGjA2Sl-"
      },
      "execution_count": 7,
      "outputs": []
    },
    {
      "cell_type": "code",
      "source": [
        "premise_counts"
      ],
      "metadata": {
        "colab": {
          "base_uri": "https://localhost:8080/"
        },
        "id": "L-95jAmS2Yj3",
        "outputId": "6684cbd4-3444-4f27-9f38-d1ffb3e0b9c0"
      },
      "execution_count": 8,
      "outputs": [
        {
          "output_type": "execute_result",
          "data": {
            "text/plain": [
              "SINGLE FAMILY HOUSE                    25328\n",
              "APARTMENT                              14957\n",
              "PARKING LOT                            14148\n",
              "STREET / ROADWAY / ALLEY / SIDEWALK    11596\n",
              "RETAIL BUSINESS                        10852\n",
              "                                       ...  \n",
              "FARM FACILITY                              3\n",
              "GAMBLING FACILITY/CASINO/RACE TRACK        2\n",
              "LAKE / WATERWAY / BEACH                    1\n",
              "TRIBAL LANDS                               1\n",
              "REST AREA                                  1\n",
              "Name: PREMISE TYPE, Length: 93, dtype: int64"
            ]
          },
          "metadata": {},
          "execution_count": 8
        }
      ]
    },
    {
      "cell_type": "code",
      "source": [
        "zipcode_counts = crime_data['ZIP'].value_counts()"
      ],
      "metadata": {
        "id": "fEPNmQEz2dAK"
      },
      "execution_count": 9,
      "outputs": []
    },
    {
      "cell_type": "code",
      "source": [
        "zipcode_counts"
      ],
      "metadata": {
        "colab": {
          "base_uri": "https://localhost:8080/"
        },
        "id": "BMTdXKod2g3S",
        "outputId": "b99599ae-a47e-4066-8dd2-71d53a4a2162"
      },
      "execution_count": 10,
      "outputs": [
        {
          "output_type": "execute_result",
          "data": {
            "text/plain": [
              "85015.0    6963\n",
              "85008.0    6320\n",
              "85009.0    5513\n",
              "85041.0    5477\n",
              "85051.0    5389\n",
              "           ... \n",
              "85203.0       1\n",
              "85266.0       1\n",
              "85381.0       1\n",
              "85268.0       1\n",
              "85212.0       1\n",
              "Name: ZIP, Length: 98, dtype: int64"
            ]
          },
          "metadata": {},
          "execution_count": 10
        }
      ]
    },
    {
      "cell_type": "markdown",
      "source": [
        "First I wanted to do some of the recommended grouping so I could get a feel of what data I wanted to group together."
      ],
      "metadata": {
        "id": "598p5tyN54bm"
      }
    },
    {
      "cell_type": "markdown",
      "source": [
        "First I did zipcode and crime category. I also converted the results to a table for them to be easy read."
      ],
      "metadata": {
        "id": "u1EGlSix5_H3"
      }
    },
    {
      "cell_type": "code",
      "source": [
        "zip_cat_stats = crime_data.groupby(['ZIP', 'UCR CRIME CATEGORY']).size().reset_index(name='Count')\n"
      ],
      "metadata": {
        "id": "eNqlWqYBvZri"
      },
      "execution_count": 11,
      "outputs": []
    },
    {
      "cell_type": "code",
      "source": [
        "zip_cat_stats"
      ],
      "metadata": {
        "colab": {
          "base_uri": "https://localhost:8080/",
          "height": 423
        },
        "id": "mYo-6xffwFXc",
        "outputId": "24bf5678-df19-4f3b-e853-6fbf93209f27"
      },
      "execution_count": 12,
      "outputs": [
        {
          "output_type": "execute_result",
          "data": {
            "text/plain": [
              "         ZIP   UCR CRIME CATEGORY  Count\n",
              "0    85003.0   AGGRAVATED ASSAULT    120\n",
              "1    85003.0                ARSON      7\n",
              "2    85003.0             BURGLARY    179\n",
              "3    85003.0         DRUG OFFENSE    194\n",
              "4    85003.0        LARCENY-THEFT    758\n",
              "..       ...                  ...    ...\n",
              "556  85395.0   AGGRAVATED ASSAULT      1\n",
              "557  85395.0                 RAPE      1\n",
              "558  85396.0             BURGLARY      1\n",
              "559  85396.0        LARCENY-THEFT      2\n",
              "560  85396.0  MOTOR VEHICLE THEFT      1\n",
              "\n",
              "[561 rows x 3 columns]"
            ],
            "text/html": [
              "\n",
              "  <div id=\"df-385e08f4-b8d1-4d07-b5c8-442b2ce3e004\" class=\"colab-df-container\">\n",
              "    <div>\n",
              "<style scoped>\n",
              "    .dataframe tbody tr th:only-of-type {\n",
              "        vertical-align: middle;\n",
              "    }\n",
              "\n",
              "    .dataframe tbody tr th {\n",
              "        vertical-align: top;\n",
              "    }\n",
              "\n",
              "    .dataframe thead th {\n",
              "        text-align: right;\n",
              "    }\n",
              "</style>\n",
              "<table border=\"1\" class=\"dataframe\">\n",
              "  <thead>\n",
              "    <tr style=\"text-align: right;\">\n",
              "      <th></th>\n",
              "      <th>ZIP</th>\n",
              "      <th>UCR CRIME CATEGORY</th>\n",
              "      <th>Count</th>\n",
              "    </tr>\n",
              "  </thead>\n",
              "  <tbody>\n",
              "    <tr>\n",
              "      <th>0</th>\n",
              "      <td>85003.0</td>\n",
              "      <td>AGGRAVATED ASSAULT</td>\n",
              "      <td>120</td>\n",
              "    </tr>\n",
              "    <tr>\n",
              "      <th>1</th>\n",
              "      <td>85003.0</td>\n",
              "      <td>ARSON</td>\n",
              "      <td>7</td>\n",
              "    </tr>\n",
              "    <tr>\n",
              "      <th>2</th>\n",
              "      <td>85003.0</td>\n",
              "      <td>BURGLARY</td>\n",
              "      <td>179</td>\n",
              "    </tr>\n",
              "    <tr>\n",
              "      <th>3</th>\n",
              "      <td>85003.0</td>\n",
              "      <td>DRUG OFFENSE</td>\n",
              "      <td>194</td>\n",
              "    </tr>\n",
              "    <tr>\n",
              "      <th>4</th>\n",
              "      <td>85003.0</td>\n",
              "      <td>LARCENY-THEFT</td>\n",
              "      <td>758</td>\n",
              "    </tr>\n",
              "    <tr>\n",
              "      <th>...</th>\n",
              "      <td>...</td>\n",
              "      <td>...</td>\n",
              "      <td>...</td>\n",
              "    </tr>\n",
              "    <tr>\n",
              "      <th>556</th>\n",
              "      <td>85395.0</td>\n",
              "      <td>AGGRAVATED ASSAULT</td>\n",
              "      <td>1</td>\n",
              "    </tr>\n",
              "    <tr>\n",
              "      <th>557</th>\n",
              "      <td>85395.0</td>\n",
              "      <td>RAPE</td>\n",
              "      <td>1</td>\n",
              "    </tr>\n",
              "    <tr>\n",
              "      <th>558</th>\n",
              "      <td>85396.0</td>\n",
              "      <td>BURGLARY</td>\n",
              "      <td>1</td>\n",
              "    </tr>\n",
              "    <tr>\n",
              "      <th>559</th>\n",
              "      <td>85396.0</td>\n",
              "      <td>LARCENY-THEFT</td>\n",
              "      <td>2</td>\n",
              "    </tr>\n",
              "    <tr>\n",
              "      <th>560</th>\n",
              "      <td>85396.0</td>\n",
              "      <td>MOTOR VEHICLE THEFT</td>\n",
              "      <td>1</td>\n",
              "    </tr>\n",
              "  </tbody>\n",
              "</table>\n",
              "<p>561 rows × 3 columns</p>\n",
              "</div>\n",
              "    <div class=\"colab-df-buttons\">\n",
              "\n",
              "  <div class=\"colab-df-container\">\n",
              "    <button class=\"colab-df-convert\" onclick=\"convertToInteractive('df-385e08f4-b8d1-4d07-b5c8-442b2ce3e004')\"\n",
              "            title=\"Convert this dataframe to an interactive table.\"\n",
              "            style=\"display:none;\">\n",
              "\n",
              "  <svg xmlns=\"http://www.w3.org/2000/svg\" height=\"24px\" viewBox=\"0 -960 960 960\">\n",
              "    <path d=\"M120-120v-720h720v720H120Zm60-500h600v-160H180v160Zm220 220h160v-160H400v160Zm0 220h160v-160H400v160ZM180-400h160v-160H180v160Zm440 0h160v-160H620v160ZM180-180h160v-160H180v160Zm440 0h160v-160H620v160Z\"/>\n",
              "  </svg>\n",
              "    </button>\n",
              "\n",
              "  <style>\n",
              "    .colab-df-container {\n",
              "      display:flex;\n",
              "      gap: 12px;\n",
              "    }\n",
              "\n",
              "    .colab-df-convert {\n",
              "      background-color: #E8F0FE;\n",
              "      border: none;\n",
              "      border-radius: 50%;\n",
              "      cursor: pointer;\n",
              "      display: none;\n",
              "      fill: #1967D2;\n",
              "      height: 32px;\n",
              "      padding: 0 0 0 0;\n",
              "      width: 32px;\n",
              "    }\n",
              "\n",
              "    .colab-df-convert:hover {\n",
              "      background-color: #E2EBFA;\n",
              "      box-shadow: 0px 1px 2px rgba(60, 64, 67, 0.3), 0px 1px 3px 1px rgba(60, 64, 67, 0.15);\n",
              "      fill: #174EA6;\n",
              "    }\n",
              "\n",
              "    .colab-df-buttons div {\n",
              "      margin-bottom: 4px;\n",
              "    }\n",
              "\n",
              "    [theme=dark] .colab-df-convert {\n",
              "      background-color: #3B4455;\n",
              "      fill: #D2E3FC;\n",
              "    }\n",
              "\n",
              "    [theme=dark] .colab-df-convert:hover {\n",
              "      background-color: #434B5C;\n",
              "      box-shadow: 0px 1px 3px 1px rgba(0, 0, 0, 0.15);\n",
              "      filter: drop-shadow(0px 1px 2px rgba(0, 0, 0, 0.3));\n",
              "      fill: #FFFFFF;\n",
              "    }\n",
              "  </style>\n",
              "\n",
              "    <script>\n",
              "      const buttonEl =\n",
              "        document.querySelector('#df-385e08f4-b8d1-4d07-b5c8-442b2ce3e004 button.colab-df-convert');\n",
              "      buttonEl.style.display =\n",
              "        google.colab.kernel.accessAllowed ? 'block' : 'none';\n",
              "\n",
              "      async function convertToInteractive(key) {\n",
              "        const element = document.querySelector('#df-385e08f4-b8d1-4d07-b5c8-442b2ce3e004');\n",
              "        const dataTable =\n",
              "          await google.colab.kernel.invokeFunction('convertToInteractive',\n",
              "                                                    [key], {});\n",
              "        if (!dataTable) return;\n",
              "\n",
              "        const docLinkHtml = 'Like what you see? Visit the ' +\n",
              "          '<a target=\"_blank\" href=https://colab.research.google.com/notebooks/data_table.ipynb>data table notebook</a>'\n",
              "          + ' to learn more about interactive tables.';\n",
              "        element.innerHTML = '';\n",
              "        dataTable['output_type'] = 'display_data';\n",
              "        await google.colab.output.renderOutput(dataTable, element);\n",
              "        const docLink = document.createElement('div');\n",
              "        docLink.innerHTML = docLinkHtml;\n",
              "        element.appendChild(docLink);\n",
              "      }\n",
              "    </script>\n",
              "  </div>\n",
              "\n",
              "\n",
              "<div id=\"df-4bb147ac-4b9b-45c4-8b8e-a7c148d2ecb6\">\n",
              "  <button class=\"colab-df-quickchart\" onclick=\"quickchart('df-4bb147ac-4b9b-45c4-8b8e-a7c148d2ecb6')\"\n",
              "            title=\"Suggest charts\"\n",
              "            style=\"display:none;\">\n",
              "\n",
              "<svg xmlns=\"http://www.w3.org/2000/svg\" height=\"24px\"viewBox=\"0 0 24 24\"\n",
              "     width=\"24px\">\n",
              "    <g>\n",
              "        <path d=\"M19 3H5c-1.1 0-2 .9-2 2v14c0 1.1.9 2 2 2h14c1.1 0 2-.9 2-2V5c0-1.1-.9-2-2-2zM9 17H7v-7h2v7zm4 0h-2V7h2v10zm4 0h-2v-4h2v4z\"/>\n",
              "    </g>\n",
              "</svg>\n",
              "  </button>\n",
              "\n",
              "<style>\n",
              "  .colab-df-quickchart {\n",
              "      --bg-color: #E8F0FE;\n",
              "      --fill-color: #1967D2;\n",
              "      --hover-bg-color: #E2EBFA;\n",
              "      --hover-fill-color: #174EA6;\n",
              "      --disabled-fill-color: #AAA;\n",
              "      --disabled-bg-color: #DDD;\n",
              "  }\n",
              "\n",
              "  [theme=dark] .colab-df-quickchart {\n",
              "      --bg-color: #3B4455;\n",
              "      --fill-color: #D2E3FC;\n",
              "      --hover-bg-color: #434B5C;\n",
              "      --hover-fill-color: #FFFFFF;\n",
              "      --disabled-bg-color: #3B4455;\n",
              "      --disabled-fill-color: #666;\n",
              "  }\n",
              "\n",
              "  .colab-df-quickchart {\n",
              "    background-color: var(--bg-color);\n",
              "    border: none;\n",
              "    border-radius: 50%;\n",
              "    cursor: pointer;\n",
              "    display: none;\n",
              "    fill: var(--fill-color);\n",
              "    height: 32px;\n",
              "    padding: 0;\n",
              "    width: 32px;\n",
              "  }\n",
              "\n",
              "  .colab-df-quickchart:hover {\n",
              "    background-color: var(--hover-bg-color);\n",
              "    box-shadow: 0 1px 2px rgba(60, 64, 67, 0.3), 0 1px 3px 1px rgba(60, 64, 67, 0.15);\n",
              "    fill: var(--button-hover-fill-color);\n",
              "  }\n",
              "\n",
              "  .colab-df-quickchart-complete:disabled,\n",
              "  .colab-df-quickchart-complete:disabled:hover {\n",
              "    background-color: var(--disabled-bg-color);\n",
              "    fill: var(--disabled-fill-color);\n",
              "    box-shadow: none;\n",
              "  }\n",
              "\n",
              "  .colab-df-spinner {\n",
              "    border: 2px solid var(--fill-color);\n",
              "    border-color: transparent;\n",
              "    border-bottom-color: var(--fill-color);\n",
              "    animation:\n",
              "      spin 1s steps(1) infinite;\n",
              "  }\n",
              "\n",
              "  @keyframes spin {\n",
              "    0% {\n",
              "      border-color: transparent;\n",
              "      border-bottom-color: var(--fill-color);\n",
              "      border-left-color: var(--fill-color);\n",
              "    }\n",
              "    20% {\n",
              "      border-color: transparent;\n",
              "      border-left-color: var(--fill-color);\n",
              "      border-top-color: var(--fill-color);\n",
              "    }\n",
              "    30% {\n",
              "      border-color: transparent;\n",
              "      border-left-color: var(--fill-color);\n",
              "      border-top-color: var(--fill-color);\n",
              "      border-right-color: var(--fill-color);\n",
              "    }\n",
              "    40% {\n",
              "      border-color: transparent;\n",
              "      border-right-color: var(--fill-color);\n",
              "      border-top-color: var(--fill-color);\n",
              "    }\n",
              "    60% {\n",
              "      border-color: transparent;\n",
              "      border-right-color: var(--fill-color);\n",
              "    }\n",
              "    80% {\n",
              "      border-color: transparent;\n",
              "      border-right-color: var(--fill-color);\n",
              "      border-bottom-color: var(--fill-color);\n",
              "    }\n",
              "    90% {\n",
              "      border-color: transparent;\n",
              "      border-bottom-color: var(--fill-color);\n",
              "    }\n",
              "  }\n",
              "</style>\n",
              "\n",
              "  <script>\n",
              "    async function quickchart(key) {\n",
              "      const quickchartButtonEl =\n",
              "        document.querySelector('#' + key + ' button');\n",
              "      quickchartButtonEl.disabled = true;  // To prevent multiple clicks.\n",
              "      quickchartButtonEl.classList.add('colab-df-spinner');\n",
              "      try {\n",
              "        const charts = await google.colab.kernel.invokeFunction(\n",
              "            'suggestCharts', [key], {});\n",
              "      } catch (error) {\n",
              "        console.error('Error during call to suggestCharts:', error);\n",
              "      }\n",
              "      quickchartButtonEl.classList.remove('colab-df-spinner');\n",
              "      quickchartButtonEl.classList.add('colab-df-quickchart-complete');\n",
              "    }\n",
              "    (() => {\n",
              "      let quickchartButtonEl =\n",
              "        document.querySelector('#df-4bb147ac-4b9b-45c4-8b8e-a7c148d2ecb6 button');\n",
              "      quickchartButtonEl.style.display =\n",
              "        google.colab.kernel.accessAllowed ? 'block' : 'none';\n",
              "    })();\n",
              "  </script>\n",
              "</div>\n",
              "\n",
              "  <div id=\"id_1787260f-223b-4bf7-b835-560bbe0d255f\">\n",
              "    <style>\n",
              "      .colab-df-generate {\n",
              "        background-color: #E8F0FE;\n",
              "        border: none;\n",
              "        border-radius: 50%;\n",
              "        cursor: pointer;\n",
              "        display: none;\n",
              "        fill: #1967D2;\n",
              "        height: 32px;\n",
              "        padding: 0 0 0 0;\n",
              "        width: 32px;\n",
              "      }\n",
              "\n",
              "      .colab-df-generate:hover {\n",
              "        background-color: #E2EBFA;\n",
              "        box-shadow: 0px 1px 2px rgba(60, 64, 67, 0.3), 0px 1px 3px 1px rgba(60, 64, 67, 0.15);\n",
              "        fill: #174EA6;\n",
              "      }\n",
              "\n",
              "      [theme=dark] .colab-df-generate {\n",
              "        background-color: #3B4455;\n",
              "        fill: #D2E3FC;\n",
              "      }\n",
              "\n",
              "      [theme=dark] .colab-df-generate:hover {\n",
              "        background-color: #434B5C;\n",
              "        box-shadow: 0px 1px 3px 1px rgba(0, 0, 0, 0.15);\n",
              "        filter: drop-shadow(0px 1px 2px rgba(0, 0, 0, 0.3));\n",
              "        fill: #FFFFFF;\n",
              "      }\n",
              "    </style>\n",
              "    <button class=\"colab-df-generate\" onclick=\"generateWithVariable('zip_cat_stats')\"\n",
              "            title=\"Generate code using this dataframe.\"\n",
              "            style=\"display:none;\">\n",
              "\n",
              "  <svg xmlns=\"http://www.w3.org/2000/svg\" height=\"24px\"viewBox=\"0 0 24 24\"\n",
              "       width=\"24px\">\n",
              "    <path d=\"M7,19H8.4L18.45,9,17,7.55,7,17.6ZM5,21V16.75L18.45,3.32a2,2,0,0,1,2.83,0l1.4,1.43a1.91,1.91,0,0,1,.58,1.4,1.91,1.91,0,0,1-.58,1.4L9.25,21ZM18.45,9,17,7.55Zm-12,3A5.31,5.31,0,0,0,4.9,8.1,5.31,5.31,0,0,0,1,6.5,5.31,5.31,0,0,0,4.9,4.9,5.31,5.31,0,0,0,6.5,1,5.31,5.31,0,0,0,8.1,4.9,5.31,5.31,0,0,0,12,6.5,5.46,5.46,0,0,0,6.5,12Z\"/>\n",
              "  </svg>\n",
              "    </button>\n",
              "    <script>\n",
              "      (() => {\n",
              "      const buttonEl =\n",
              "        document.querySelector('#id_1787260f-223b-4bf7-b835-560bbe0d255f button.colab-df-generate');\n",
              "      buttonEl.style.display =\n",
              "        google.colab.kernel.accessAllowed ? 'block' : 'none';\n",
              "\n",
              "      buttonEl.onclick = () => {\n",
              "        google.colab.notebook.generateWithVariable('zip_cat_stats');\n",
              "      }\n",
              "      })();\n",
              "    </script>\n",
              "  </div>\n",
              "\n",
              "    </div>\n",
              "  </div>\n"
            ]
          },
          "metadata": {},
          "execution_count": 12
        }
      ]
    },
    {
      "cell_type": "markdown",
      "source": [
        "I thought it would be interesting to look at a speciic zipocde beecause this was too much data to put all into one table. I thought that a bar plot made the most sense for the data"
      ],
      "metadata": {
        "id": "oghsJazz65tH"
      }
    },
    {
      "cell_type": "code",
      "source": [
        "specificzipstats = zip_cat_stats[zip_cat_stats['ZIP'] == 85015]"
      ],
      "metadata": {
        "id": "xOJ1AYjY3xHh"
      },
      "execution_count": 13,
      "outputs": []
    },
    {
      "cell_type": "code",
      "source": [
        "print(specificzipstats)"
      ],
      "metadata": {
        "colab": {
          "base_uri": "https://localhost:8080/"
        },
        "id": "JuDWNF8o3qai",
        "outputId": "e5045e25-4915-477d-a9f2-5d051a452d40"
      },
      "execution_count": 14,
      "outputs": [
        {
          "output_type": "stream",
          "name": "stdout",
          "text": [
            "        ZIP                     UCR CRIME CATEGORY  Count\n",
            "81  85015.0                     AGGRAVATED ASSAULT    476\n",
            "82  85015.0                                  ARSON     41\n",
            "83  85015.0                               BURGLARY   1140\n",
            "84  85015.0                           DRUG OFFENSE    584\n",
            "85  85015.0                          LARCENY-THEFT   3636\n",
            "86  85015.0                    MOTOR VEHICLE THEFT    580\n",
            "87  85015.0  MURDER AND NON-NEGLIGENT MANSLAUGHTER     19\n",
            "88  85015.0                                   RAPE     80\n",
            "89  85015.0                                ROBBERY    407\n"
          ]
        }
      ]
    },
    {
      "cell_type": "code",
      "source": [
        "plt.figure(figsize=(10, 6))\n",
        "plt.bar(specificzipstats['UCR CRIME CATEGORY'], specificzipstats['Count'])\n",
        "plt.xlabel('Crime Category')\n",
        "plt.ylabel('Count')\n",
        "plt.title('Crime Counts for ZIP Code 85015')\n",
        "plt.xticks(rotation=15)\n",
        "plt.tight_layout()\n",
        "plt.show()"
      ],
      "metadata": {
        "colab": {
          "base_uri": "https://localhost:8080/",
          "height": 607
        },
        "id": "pBUs9KI75QdB",
        "outputId": "32016764-2408-4741-8f78-de9911680bd1"
      },
      "execution_count": 15,
      "outputs": [
        {
          "output_type": "display_data",
          "data": {
            "text/plain": [
              "<Figure size 1000x600 with 1 Axes>"
            ],
            "image/png": "[encoded data removed]"
          },
          "metadata": {}
        }
      ]
    },
    {
      "cell_type": "code",
      "source": [
        "prem_cat_stats = crime_data.groupby(['PREMISE TYPE', 'UCR CRIME CATEGORY']).size().reset_index(name='Count')\n"
      ],
      "metadata": {
        "id": "h8hLdm5k6OHz"
      },
      "execution_count": 16,
      "outputs": []
    },
    {
      "cell_type": "code",
      "source": [
        "prem_cat_stats"
      ],
      "metadata": {
        "colab": {
          "base_uri": "https://localhost:8080/",
          "height": 423
        },
        "id": "aT7GWM_k9d_J",
        "outputId": "7d0030ae-f8d5-465b-90eb-5a11d30fdeef"
      },
      "execution_count": 17,
      "outputs": [
        {
          "output_type": "execute_result",
          "data": {
            "text/plain": [
              "                      PREMISE TYPE   UCR CRIME CATEGORY  Count\n",
              "0    ABANDONED/CONDEMNED STRUCTURE   AGGRAVATED ASSAULT      3\n",
              "1    ABANDONED/CONDEMNED STRUCTURE             BURGLARY      2\n",
              "2    ABANDONED/CONDEMNED STRUCTURE         DRUG OFFENSE      2\n",
              "3    ABANDONED/CONDEMNED STRUCTURE                 RAPE      2\n",
              "4         ADULT ONLY STORE / MOVIE   AGGRAVATED ASSAULT      4\n",
              "..                             ...                  ...    ...\n",
              "529            WAREHOUSE / FACTORY             BURGLARY    124\n",
              "530            WAREHOUSE / FACTORY         DRUG OFFENSE     12\n",
              "531            WAREHOUSE / FACTORY        LARCENY-THEFT    177\n",
              "532            WAREHOUSE / FACTORY  MOTOR VEHICLE THEFT     16\n",
              "533            WAREHOUSE / FACTORY              ROBBERY      2\n",
              "\n",
              "[534 rows x 3 columns]"
            ],
            "text/html": [
              "\n",
              "  <div id=\"df-f27fed2e-e191-40b7-891e-6bfdfd226848\" class=\"colab-df-container\">\n",
              "    <div>\n",
              "<style scoped>\n",
              "    .dataframe tbody tr th:only-of-type {\n",
              "        vertical-align: middle;\n",
              "    }\n",
              "\n",
              "    .dataframe tbody tr th {\n",
              "        vertical-align: top;\n",
              "    }\n",
              "\n",
              "    .dataframe thead th {\n",
              "        text-align: right;\n",
              "    }\n",
              "</style>\n",
              "<table border=\"1\" class=\"dataframe\">\n",
              "  <thead>\n",
              "    <tr style=\"text-align: right;\">\n",
              "      <th></th>\n",
              "      <th>PREMISE TYPE</th>\n",
              "      <th>UCR CRIME CATEGORY</th>\n",
              "      <th>Count</th>\n",
              "    </tr>\n",
              "  </thead>\n",
              "  <tbody>\n",
              "    <tr>\n",
              "      <th>0</th>\n",
              "      <td>ABANDONED/CONDEMNED STRUCTURE</td>\n",
              "      <td>AGGRAVATED ASSAULT</td>\n",
              "      <td>3</td>\n",
              "    </tr>\n",
              "    <tr>\n",
              "      <th>1</th>\n",
              "      <td>ABANDONED/CONDEMNED STRUCTURE</td>\n",
              "      <td>BURGLARY</td>\n",
              "      <td>2</td>\n",
              "    </tr>\n",
              "    <tr>\n",
              "      <th>2</th>\n",
              "      <td>ABANDONED/CONDEMNED STRUCTURE</td>\n",
              "      <td>DRUG OFFENSE</td>\n",
              "      <td>2</td>\n",
              "    </tr>\n",
              "    <tr>\n",
              "      <th>3</th>\n",
              "      <td>ABANDONED/CONDEMNED STRUCTURE</td>\n",
              "      <td>RAPE</td>\n",
              "      <td>2</td>\n",
              "    </tr>\n",
              "    <tr>\n",
              "      <th>4</th>\n",
              "      <td>ADULT ONLY STORE / MOVIE</td>\n",
              "      <td>AGGRAVATED ASSAULT</td>\n",
              "      <td>4</td>\n",
              "    </tr>\n",
              "    <tr>\n",
              "      <th>...</th>\n",
              "      <td>...</td>\n",
              "      <td>...</td>\n",
              "      <td>...</td>\n",
              "    </tr>\n",
              "    <tr>\n",
              "      <th>529</th>\n",
              "      <td>WAREHOUSE / FACTORY</td>\n",
              "      <td>BURGLARY</td>\n",
              "      <td>124</td>\n",
              "    </tr>\n",
              "    <tr>\n",
              "      <th>530</th>\n",
              "      <td>WAREHOUSE / FACTORY</td>\n",
              "      <td>DRUG OFFENSE</td>\n",
              "      <td>12</td>\n",
              "    </tr>\n",
              "    <tr>\n",
              "      <th>531</th>\n",
              "      <td>WAREHOUSE / FACTORY</td>\n",
              "      <td>LARCENY-THEFT</td>\n",
              "      <td>177</td>\n",
              "    </tr>\n",
              "    <tr>\n",
              "      <th>532</th>\n",
              "      <td>WAREHOUSE / FACTORY</td>\n",
              "      <td>MOTOR VEHICLE THEFT</td>\n",
              "      <td>16</td>\n",
              "    </tr>\n",
              "    <tr>\n",
              "      <th>533</th>\n",
              "      <td>WAREHOUSE / FACTORY</td>\n",
              "      <td>ROBBERY</td>\n",
              "      <td>2</td>\n",
              "    </tr>\n",
              "  </tbody>\n",
              "</table>\n",
              "<p>534 rows × 3 columns</p>\n",
              "</div>\n",
              "    <div class=\"colab-df-buttons\">\n",
              "\n",
              "  <div class=\"colab-df-container\">\n",
              "    <button class=\"colab-df-convert\" onclick=\"convertToInteractive('df-f27fed2e-e191-40b7-891e-6bfdfd226848')\"\n",
              "            title=\"Convert this dataframe to an interactive table.\"\n",
              "            style=\"display:none;\">\n",
              "\n",
              "  <svg xmlns=\"http://www.w3.org/2000/svg\" height=\"24px\" viewBox=\"0 -960 960 960\">\n",
              "    <path d=\"M120-120v-720h720v720H120Zm60-500h600v-160H180v160Zm220 220h160v-160H400v160Zm0 220h160v-160H400v160ZM180-400h160v-160H180v160Zm440 0h160v-160H620v160ZM180-180h160v-160H180v160Zm440 0h160v-160H620v160Z\"/>\n",
              "  </svg>\n",
              "    </button>\n",
              "\n",
              "  <style>\n",
              "    .colab-df-container {\n",
              "      display:flex;\n",
              "      gap: 12px;\n",
              "    }\n",
              "\n",
              "    .colab-df-convert {\n",
              "      background-color: #E8F0FE;\n",
              "      border: none;\n",
              "      border-radius: 50%;\n",
              "      cursor: pointer;\n",
              "      display: none;\n",
              "      fill: #1967D2;\n",
              "      height: 32px;\n",
              "      padding: 0 0 0 0;\n",
              "      width: 32px;\n",
              "    }\n",
              "\n",
              "    .colab-df-convert:hover {\n",
              "      background-color: #E2EBFA;\n",
              "      box-shadow: 0px 1px 2px rgba(60, 64, 67, 0.3), 0px 1px 3px 1px rgba(60, 64, 67, 0.15);\n",
              "      fill: #174EA6;\n",
              "    }\n",
              "\n",
              "    .colab-df-buttons div {\n",
              "      margin-bottom: 4px;\n",
              "    }\n",
              "\n",
              "    [theme=dark] .colab-df-convert {\n",
              "      background-color: #3B4455;\n",
              "      fill: #D2E3FC;\n",
              "    }\n",
              "\n",
              "    [theme=dark] .colab-df-convert:hover {\n",
              "      background-color: #434B5C;\n",
              "      box-shadow: 0px 1px 3px 1px rgba(0, 0, 0, 0.15);\n",
              "      filter: drop-shadow(0px 1px 2px rgba(0, 0, 0, 0.3));\n",
              "      fill: #FFFFFF;\n",
              "    }\n",
              "  </style>\n",
              "\n",
              "    <script>\n",
              "      const buttonEl =\n",
              "        document.querySelector('#df-f27fed2e-e191-40b7-891e-6bfdfd226848 button.colab-df-convert');\n",
              "      buttonEl.style.display =\n",
              "        google.colab.kernel.accessAllowed ? 'block' : 'none';\n",
              "\n",
              "      async function convertToInteractive(key) {\n",
              "        const element = document.querySelector('#df-f27fed2e-e191-40b7-891e-6bfdfd226848');\n",
              "        const dataTable =\n",
              "          await google.colab.kernel.invokeFunction('convertToInteractive',\n",
              "                                                    [key], {});\n",
              "        if (!dataTable) return;\n",
              "\n",
              "        const docLinkHtml = 'Like what you see? Visit the ' +\n",
              "          '<a target=\"_blank\" href=https://colab.research.google.com/notebooks/data_table.ipynb>data table notebook</a>'\n",
              "          + ' to learn more about interactive tables.';\n",
              "        element.innerHTML = '';\n",
              "        dataTable['output_type'] = 'display_data';\n",
              "        await google.colab.output.renderOutput(dataTable, element);\n",
              "        const docLink = document.createElement('div');\n",
              "        docLink.innerHTML = docLinkHtml;\n",
              "        element.appendChild(docLink);\n",
              "      }\n",
              "    </script>\n",
              "  </div>\n",
              "\n",
              "\n",
              "<div id=\"df-0c3c5047-83df-4409-b465-d77dd8ba3d9a\">\n",
              "  <button class=\"colab-df-quickchart\" onclick=\"quickchart('df-0c3c5047-83df-4409-b465-d77dd8ba3d9a')\"\n",
              "            title=\"Suggest charts\"\n",
              "            style=\"display:none;\">\n",
              "\n",
              "<svg xmlns=\"http://www.w3.org/2000/svg\" height=\"24px\"viewBox=\"0 0 24 24\"\n",
              "     width=\"24px\">\n",
              "    <g>\n",
              "        <path d=\"M19 3H5c-1.1 0-2 .9-2 2v14c0 1.1.9 2 2 2h14c1.1 0 2-.9 2-2V5c0-1.1-.9-2-2-2zM9 17H7v-7h2v7zm4 0h-2V7h2v10zm4 0h-2v-4h2v4z\"/>\n",
              "    </g>\n",
              "</svg>\n",
              "  </button>\n",
              "\n",
              "<style>\n",
              "  .colab-df-quickchart {\n",
              "      --bg-color: #E8F0FE;\n",
              "      --fill-color: #1967D2;\n",
              "      --hover-bg-color: #E2EBFA;\n",
              "      --hover-fill-color: #174EA6;\n",
              "      --disabled-fill-color: #AAA;\n",
              "      --disabled-bg-color: #DDD;\n",
              "  }\n",
              "\n",
              "  [theme=dark] .colab-df-quickchart {\n",
              "      --bg-color: #3B4455;\n",
              "      --fill-color: #D2E3FC;\n",
              "      --hover-bg-color: #434B5C;\n",
              "      --hover-fill-color: #FFFFFF;\n",
              "      --disabled-bg-color: #3B4455;\n",
              "      --disabled-fill-color: #666;\n",
              "  }\n",
              "\n",
              "  .colab-df-quickchart {\n",
              "    background-color: var(--bg-color);\n",
              "    border: none;\n",
              "    border-radius: 50%;\n",
              "    cursor: pointer;\n",
              "    display: none;\n",
              "    fill: var(--fill-color);\n",
              "    height: 32px;\n",
              "    padding: 0;\n",
              "    width: 32px;\n",
              "  }\n",
              "\n",
              "  .colab-df-quickchart:hover {\n",
              "    background-color: var(--hover-bg-color);\n",
              "    box-shadow: 0 1px 2px rgba(60, 64, 67, 0.3), 0 1px 3px 1px rgba(60, 64, 67, 0.15);\n",
              "    fill: var(--button-hover-fill-color);\n",
              "  }\n",
              "\n",
              "  .colab-df-quickchart-complete:disabled,\n",
              "  .colab-df-quickchart-complete:disabled:hover {\n",
              "    background-color: var(--disabled-bg-color);\n",
              "    fill: var(--disabled-fill-color);\n",
              "    box-shadow: none;\n",
              "  }\n",
              "\n",
              "  .colab-df-spinner {\n",
              "    border: 2px solid var(--fill-color);\n",
              "    border-color: transparent;\n",
              "    border-bottom-color: var(--fill-color);\n",
              "    animation:\n",
              "      spin 1s steps(1) infinite;\n",
              "  }\n",
              "\n",
              "  @keyframes spin {\n",
              "    0% {\n",
              "      border-color: transparent;\n",
              "      border-bottom-color: var(--fill-color);\n",
              "      border-left-color: var(--fill-color);\n",
              "    }\n",
              "    20% {\n",
              "      border-color: transparent;\n",
              "      border-left-color: var(--fill-color);\n",
              "      border-top-color: var(--fill-color);\n",
              "    }\n",
              "    30% {\n",
              "      border-color: transparent;\n",
              "      border-left-color: var(--fill-color);\n",
              "      border-top-color: var(--fill-color);\n",
              "      border-right-color: var(--fill-color);\n",
              "    }\n",
              "    40% {\n",
              "      border-color: transparent;\n",
              "      border-right-color: var(--fill-color);\n",
              "      border-top-color: var(--fill-color);\n",
              "    }\n",
              "    60% {\n",
              "      border-color: transparent;\n",
              "      border-right-color: var(--fill-color);\n",
              "    }\n",
              "    80% {\n",
              "      border-color: transparent;\n",
              "      border-right-color: var(--fill-color);\n",
              "      border-bottom-color: var(--fill-color);\n",
              "    }\n",
              "    90% {\n",
              "      border-color: transparent;\n",
              "      border-bottom-color: var(--fill-color);\n",
              "    }\n",
              "  }\n",
              "</style>\n",
              "\n",
              "  <script>\n",
              "    async function quickchart(key) {\n",
              "      const quickchartButtonEl =\n",
              "        document.querySelector('#' + key + ' button');\n",
              "      quickchartButtonEl.disabled = true;  // To prevent multiple clicks.\n",
              "      quickchartButtonEl.classList.add('colab-df-spinner');\n",
              "      try {\n",
              "        const charts = await google.colab.kernel.invokeFunction(\n",
              "            'suggestCharts', [key], {});\n",
              "      } catch (error) {\n",
              "        console.error('Error during call to suggestCharts:', error);\n",
              "      }\n",
              "      quickchartButtonEl.classList.remove('colab-df-spinner');\n",
              "      quickchartButtonEl.classList.add('colab-df-quickchart-complete');\n",
              "    }\n",
              "    (() => {\n",
              "      let quickchartButtonEl =\n",
              "        document.querySelector('#df-0c3c5047-83df-4409-b465-d77dd8ba3d9a button');\n",
              "      quickchartButtonEl.style.display =\n",
              "        google.colab.kernel.accessAllowed ? 'block' : 'none';\n",
              "    })();\n",
              "  </script>\n",
              "</div>\n",
              "\n",
              "  <div id=\"id_32727501-1336-41ad-a6b9-a7ff307ed16c\">\n",
              "    <style>\n",
              "      .colab-df-generate {\n",
              "        background-color: #E8F0FE;\n",
              "        border: none;\n",
              "        border-radius: 50%;\n",
              "        cursor: pointer;\n",
              "        display: none;\n",
              "        fill: #1967D2;\n",
              "        height: 32px;\n",
              "        padding: 0 0 0 0;\n",
              "        width: 32px;\n",
              "      }\n",
              "\n",
              "      .colab-df-generate:hover {\n",
              "        background-color: #E2EBFA;\n",
              "        box-shadow: 0px 1px 2px rgba(60, 64, 67, 0.3), 0px 1px 3px 1px rgba(60, 64, 67, 0.15);\n",
              "        fill: #174EA6;\n",
              "      }\n",
              "\n",
              "      [theme=dark] .colab-df-generate {\n",
              "        background-color: #3B4455;\n",
              "        fill: #D2E3FC;\n",
              "      }\n",
              "\n",
              "      [theme=dark] .colab-df-generate:hover {\n",
              "        background-color: #434B5C;\n",
              "        box-shadow: 0px 1px 3px 1px rgba(0, 0, 0, 0.15);\n",
              "        filter: drop-shadow(0px 1px 2px rgba(0, 0, 0, 0.3));\n",
              "        fill: #FFFFFF;\n",
              "      }\n",
              "    </style>\n",
              "    <button class=\"colab-df-generate\" onclick=\"generateWithVariable('prem_cat_stats')\"\n",
              "            title=\"Generate code using this dataframe.\"\n",
              "            style=\"display:none;\">\n",
              "\n",
              "  <svg xmlns=\"http://www.w3.org/2000/svg\" height=\"24px\"viewBox=\"0 0 24 24\"\n",
              "       width=\"24px\">\n",
              "    <path d=\"M7,19H8.4L18.45,9,17,7.55,7,17.6ZM5,21V16.75L18.45,3.32a2,2,0,0,1,2.83,0l1.4,1.43a1.91,1.91,0,0,1,.58,1.4,1.91,1.91,0,0,1-.58,1.4L9.25,21ZM18.45,9,17,7.55Zm-12,3A5.31,5.31,0,0,0,4.9,8.1,5.31,5.31,0,0,0,1,6.5,5.31,5.31,0,0,0,4.9,4.9,5.31,5.31,0,0,0,6.5,1,5.31,5.31,0,0,0,8.1,4.9,5.31,5.31,0,0,0,12,6.5,5.46,5.46,0,0,0,6.5,12Z\"/>\n",
              "  </svg>\n",
              "    </button>\n",
              "    <script>\n",
              "      (() => {\n",
              "      const buttonEl =\n",
              "        document.querySelector('#id_32727501-1336-41ad-a6b9-a7ff307ed16c button.colab-df-generate');\n",
              "      buttonEl.style.display =\n",
              "        google.colab.kernel.accessAllowed ? 'block' : 'none';\n",
              "\n",
              "      buttonEl.onclick = () => {\n",
              "        google.colab.notebook.generateWithVariable('prem_cat_stats');\n",
              "      }\n",
              "      })();\n",
              "    </script>\n",
              "  </div>\n",
              "\n",
              "    </div>\n",
              "  </div>\n"
            ]
          },
          "metadata": {},
          "execution_count": 17
        }
      ]
    },
    {
      "cell_type": "markdown",
      "source": [],
      "metadata": {
        "id": "2a9GivxpuU7B"
      }
    },
    {
      "cell_type": "markdown",
      "source": [
        "Next I wanted to look at the crimes in the context of violent and nonviolent crimes as suggested in canvas so I pulled the data into those categories by finding the total sum of each defined crime type in the csv.\n",
        "Though there is probably an easier way to do this I decided I was going to but the categories in violent and non violent crimes in a list."
      ],
      "metadata": {
        "id": "CcnR2olnqi34"
      }
    },
    {
      "cell_type": "code",
      "source": [
        "violent_crimes = ['AGGRAVATED ASSAULT', 'ROBBERY', 'RAPE', 'MURDER AND NON-NEGLIGENT MANSLAUGHTER']\n",
        "nonviolent_crimes = ['BURGLARY', 'MOTOR VEHICLE THEFT','DRUG OFFENSE','ARSON']"
      ],
      "metadata": {
        "id": "vQnPKd62ikcR"
      },
      "execution_count": 18,
      "outputs": []
    },
    {
      "cell_type": "markdown",
      "source": [
        "Then after some research I found a recommendation to frame the code as I did below."
      ],
      "metadata": {
        "id": "0d7HB3ucBQ55"
      }
    },
    {
      "cell_type": "code",
      "source": [
        "violent_crime_data = crime_data[crime_data['UCR CRIME CATEGORY'].isin(violent_crimes)]\n",
        "nonviolent_crime_data = crime_data[crime_data['UCR CRIME CATEGORY'].isin(nonviolent_crimes)]"
      ],
      "metadata": {
        "id": "pQXh-u-InTei"
      },
      "execution_count": 19,
      "outputs": []
    },
    {
      "cell_type": "code",
      "source": [
        "violent_counts = violent_crime_data['UCR CRIME CATEGORY'].value_counts()\n",
        "nonviolent_counts = nonviolent_crime_data['UCR CRIME CATEGORY'].value_counts()\n"
      ],
      "metadata": {
        "id": "oDfugkb_qPHJ"
      },
      "execution_count": 20,
      "outputs": []
    },
    {
      "cell_type": "code",
      "source": [
        "print(\"Violent Crime Counts:\")\n",
        "print(violent_counts)\n",
        "print(\"\\nNonviolent Crime Counts:\")\n",
        "print(nonviolent_counts)"
      ],
      "metadata": {
        "colab": {
          "base_uri": "https://localhost:8080/"
        },
        "id": "K-x8E4C6qKCr",
        "outputId": "381b6914-e8b8-4c4e-c7c8-e166c5425ed4"
      },
      "execution_count": 21,
      "outputs": [
        {
          "output_type": "stream",
          "name": "stdout",
          "text": [
            "Violent Crime Counts:\n",
            "AGGRAVATED ASSAULT                       9306\n",
            "ROBBERY                                  5640\n",
            "RAPE                                     1981\n",
            "MURDER AND NON-NEGLIGENT MANSLAUGHTER     289\n",
            "Name: UCR CRIME CATEGORY, dtype: int64\n",
            "\n",
            "Nonviolent Crime Counts:\n",
            "BURGLARY               23646\n",
            "MOTOR VEHICLE THEFT    14391\n",
            "DRUG OFFENSE            9572\n",
            "ARSON                    634\n",
            "Name: UCR CRIME CATEGORY, dtype: int64\n"
          ]
        }
      ]
    },
    {
      "cell_type": "code",
      "source": [
        "total_violent = violent_counts.sum()\n",
        "total_nonviolent = nonviolent_counts.sum()"
      ],
      "metadata": {
        "id": "AgdIlZIjq1eo"
      },
      "execution_count": 22,
      "outputs": []
    },
    {
      "cell_type": "code",
      "source": [
        "print(\"\\nTotal Violent Crimes:\", total_violent)\n",
        "print(\"Total Nonviolent Crimes:\", total_nonviolent)"
      ],
      "metadata": {
        "colab": {
          "base_uri": "https://localhost:8080/"
        },
        "id": "efOcOMgcq6Vo",
        "outputId": "c686f5db-ddf7-4a74-c034-14d4e0bbb386"
      },
      "execution_count": 23,
      "outputs": [
        {
          "output_type": "stream",
          "name": "stdout",
          "text": [
            "\n",
            "Total Violent Crimes: 17216\n",
            "Total Nonviolent Crimes: 48243\n"
          ]
        }
      ]
    },
    {
      "cell_type": "markdown",
      "source": [
        "Next I created lists of crimes I considered violent and nonviolent in order to analyze what type of crime each zipcode and premise type have more of"
      ],
      "metadata": {
        "id": "4PrserLL9oTa"
      }
    },
    {
      "cell_type": "code",
      "source": [
        "violent_counts_by_zip = violent_crime_data.groupby('ZIP')['UCR CRIME CATEGORY'].value_counts().unstack().fillna(0)\n",
        "nonviolent_counts_by_zip = nonviolent_crime_data.groupby('ZIP')['UCR CRIME CATEGORY'].value_counts().unstack().fillna(0)"
      ],
      "metadata": {
        "id": "_hp0Nax9r1u-"
      },
      "execution_count": 24,
      "outputs": []
    },
    {
      "cell_type": "code",
      "source": [
        "total_violent_by_zip=violent_counts_by_zip.sum(axis=1)\n",
        "total_nonviolent_by_zip=nonviolent_counts_by_zip.sum(axis=1)"
      ],
      "metadata": {
        "id": "Liu-Fz37skB3"
      },
      "execution_count": 25,
      "outputs": []
    },
    {
      "cell_type": "code",
      "source": [
        "result = pd.DataFrame({\n",
        "    'Total Violent Crimes': total_violent_by_zip,\n",
        "    'Total Nonviolent Crimes': total_nonviolent_by_zip,\n",
        "    'Dominant Crime Type': 'Violent'\n",
        "})"
      ],
      "metadata": {
        "id": "krvCRP0psx1P"
      },
      "execution_count": 26,
      "outputs": []
    },
    {
      "cell_type": "code",
      "source": [
        "result['Dominant Crime Type'] = 'Violent'\n",
        "result.loc[result['Total Nonviolent Crimes'] > result['Total Violent Crimes'], 'Dominant Crime Type'] = 'Nonviolent'"
      ],
      "metadata": {
        "id": "y4_bLelDvks_"
      },
      "execution_count": 27,
      "outputs": []
    },
    {
      "cell_type": "code",
      "source": [
        "print(result)"
      ],
      "metadata": {
        "colab": {
          "base_uri": "https://localhost:8080/"
        },
        "id": "0jhtxFIev78e",
        "outputId": "c1aa2335-6958-4a4e-959f-7fb773260feb"
      },
      "execution_count": 28,
      "outputs": [
        {
          "output_type": "stream",
          "name": "stdout",
          "text": [
            "         Total Violent Crimes  Total Nonviolent Crimes Dominant Crime Type\n",
            "ZIP                                                                       \n",
            "85003.0                 247.0                    508.0          Nonviolent\n",
            "85004.0                 257.0                    386.0          Nonviolent\n",
            "85006.0                 502.0                    957.0          Nonviolent\n",
            "85007.0                 443.0                    799.0          Nonviolent\n",
            "85008.0                 902.0                   2222.0          Nonviolent\n",
            "...                       ...                      ...                 ...\n",
            "85382.0                   NaN                      1.0             Violent\n",
            "85383.0                   1.0                      1.0             Violent\n",
            "85392.0                   2.0                      6.0          Nonviolent\n",
            "85395.0                   2.0                      NaN             Violent\n",
            "85396.0                   NaN                      2.0             Violent\n",
            "\n",
            "[93 rows x 3 columns]\n"
          ]
        }
      ]
    },
    {
      "cell_type": "code",
      "source": [
        "violent_counts_by_prem = violent_crime_data.groupby('PREMISE TYPE')['UCR CRIME CATEGORY'].value_counts().unstack().fillna(0)\n",
        "nonviolent_counts_by_prem = nonviolent_crime_data.groupby('PREMISE TYPE')['UCR CRIME CATEGORY'].value_counts().unstack().fillna(0)"
      ],
      "metadata": {
        "id": "hnWojL10yCSW"
      },
      "execution_count": 29,
      "outputs": []
    },
    {
      "cell_type": "code",
      "source": [
        "total_violent_by_prem = violent_counts_by_prem.sum(axis=1)\n",
        "total_nonviolent_by_prem = nonviolent_counts_by_prem.sum(axis=1)"
      ],
      "metadata": {
        "id": "MxOIRckdyOfe"
      },
      "execution_count": 30,
      "outputs": []
    },
    {
      "cell_type": "code",
      "source": [
        "result_prem = pd.DataFrame({\n",
        "    'Total Violent Crimes': total_violent_by_prem,\n",
        "    'Total Nonviolent Crimes': total_nonviolent_by_prem,\n",
        "    'Dominant Crime Type': 'Violent'\n",
        "})"
      ],
      "metadata": {
        "id": "G-92EJPTDlGu"
      },
      "execution_count": 31,
      "outputs": []
    },
    {
      "cell_type": "code",
      "source": [
        "result_prem['Dominant Crime Type'] = result_prem[['Total Violent Crimes', 'Total Nonviolent Crimes']].idxmax(axis=1)\n",
        "result_prem['Dominant Crime Type'] = result_prem['Dominant Crime Type'].apply(lambda x: 'Nonviolent' if 'Nonviolent' in x else 'Violent')"
      ],
      "metadata": {
        "id": "l--6COE4EZtk"
      },
      "execution_count": 32,
      "outputs": []
    },
    {
      "cell_type": "code",
      "source": [
        "print(result_prem)"
      ],
      "metadata": {
        "colab": {
          "base_uri": "https://localhost:8080/"
        },
        "id": "sUEigmKYEf-B",
        "outputId": "1945dd71-0b22-4ef1-880d-68a19732e1fa"
      },
      "execution_count": 33,
      "outputs": [
        {
          "output_type": "stream",
          "name": "stdout",
          "text": [
            "                               Total Violent Crimes  Total Nonviolent Crimes  \\\n",
            "PREMISE TYPE                                                                   \n",
            "ABANDONED/CONDEMNED STRUCTURE                   5.0                      4.0   \n",
            "ADULT ONLY STORE / MOVIE                       14.0                     15.0   \n",
            "AIRPORT                                        21.0                    124.0   \n",
            "AMUSEMENT PARK                                  NaN                      4.0   \n",
            "APARTMENT                                    3075.0                   6365.0   \n",
            "...                                             ...                      ...   \n",
            "THEATRE                                         4.0                      9.0   \n",
            "TRAIN STATION                                   3.0                      4.0   \n",
            "UNKNOWN                                       206.0                    104.0   \n",
            "VEHICLE                                       630.0                   1900.0   \n",
            "WAREHOUSE / FACTORY                            12.0                    152.0   \n",
            "\n",
            "                              Dominant Crime Type  \n",
            "PREMISE TYPE                                       \n",
            "ABANDONED/CONDEMNED STRUCTURE             Violent  \n",
            "ADULT ONLY STORE / MOVIE               Nonviolent  \n",
            "AIRPORT                                Nonviolent  \n",
            "AMUSEMENT PARK                         Nonviolent  \n",
            "APARTMENT                              Nonviolent  \n",
            "...                                           ...  \n",
            "THEATRE                                Nonviolent  \n",
            "TRAIN STATION                          Nonviolent  \n",
            "UNKNOWN                                   Violent  \n",
            "VEHICLE                                Nonviolent  \n",
            "WAREHOUSE / FACTORY                    Nonviolent  \n",
            "\n",
            "[83 rows x 3 columns]\n"
          ]
        }
      ]
    },
    {
      "cell_type": "markdown",
      "source": [
        "After looking at all the conts and getting a feel for them I started focusing on single family homes. First I looked at the amounts of each crime type."
      ],
      "metadata": {
        "id": "KbrZBIPVvC7_"
      }
    },
    {
      "cell_type": "code",
      "source": [
        "specific_prem_stats = prem_cat_stats[prem_cat_stats[\"PREMISE TYPE\"] == \"SINGLE FAMILY HOUSE\"]"
      ],
      "metadata": {
        "id": "HbRYA6MR2TCE"
      },
      "execution_count": 34,
      "outputs": []
    },
    {
      "cell_type": "code",
      "source": [
        "plt.figure(figsize=(10, 6))\n",
        "plt.bar(specific_prem_stats['UCR CRIME CATEGORY'], specific_prem_stats['Count'])\n",
        "plt.xlabel('Crime Category')\n",
        "plt.ylabel('Count')\n",
        "plt.title('Crime Counts for Single Family Homes')\n",
        "plt.xticks(rotation=20)\n",
        "plt.tight_layout()\n",
        "plt.show()"
      ],
      "metadata": {
        "colab": {
          "base_uri": "https://localhost:8080/",
          "height": 607
        },
        "id": "4haDGThVvS6F",
        "outputId": "21ad85c6-e362-4732-c2c7-6cf7519d5971"
      },
      "execution_count": 35,
      "outputs": [
        {
          "output_type": "display_data",
          "data": {
            "text/plain": [
              "<Figure size 1000x600 with 1 Axes>"
            ],
            "image/png": "[encoded data removed]"
          },
          "metadata": {}
        }
      ]
    },
    {
      "cell_type": "markdown",
      "source": [
        "Then I grouped the crimes as violent and nonviolent. The graph shows that nonviolent crimes are more popular in this dataset by an overwhelming majority.This would be good to  know for residents of this home type so they can account for security measures."
      ],
      "metadata": {
        "id": "NEuZtAIQHgbV"
      }
    },
    {
      "cell_type": "code",
      "source": [
        "crime_category_groups = {\n",
        "    'Violent Crimes': ['AGGRAVATED ASSAULT', 'MURDER AND NON-NEGLIGENT MANSLAUGHTER', 'RAPE', 'ROBBERY'],\n",
        "    'Nonviolent Crimes': ['ARSON', 'BURGLARY', 'LARCENY-THEFT', 'MOTOR VEHICLE THEFT'],\n",
        "}"
      ],
      "metadata": {
        "id": "IQfv5d4IHg3h"
      },
      "execution_count": 36,
      "outputs": []
    },
    {
      "cell_type": "code",
      "source": [
        "grouped_prem_stats = pd.DataFrame(columns=['Crime Category', 'Count'])"
      ],
      "metadata": {
        "id": "N-NPpTqZH6yB"
      },
      "execution_count": 37,
      "outputs": []
    },
    {
      "cell_type": "code",
      "source": [
        "for group, categories in crime_category_groups.items():\n",
        "    group_count = specific_prem_stats[specific_prem_stats['UCR CRIME CATEGORY'].isin(categories)]['Count'].sum()\n",
        "    grouped_prem_stats = grouped_prem_stats.append({'Crime Category': group, 'Count': group_count}, ignore_index=True)"
      ],
      "metadata": {
        "colab": {
          "base_uri": "https://localhost:8080/"
        },
        "id": "IP1YO7rRH-D3",
        "outputId": "9891ab86-2bac-4d46-f163-3d4a8f749d03"
      },
      "execution_count": 38,
      "outputs": [
        {
          "output_type": "stream",
          "name": "stderr",
          "text": [
            "<ipython-input-38-0cb86b786de4>:3: FutureWarning: The frame.append method is deprecated and will be removed from pandas in a future version. Use pandas.concat instead.\n",
            "  grouped_prem_stats = grouped_prem_stats.append({'Crime Category': group, 'Count': group_count}, ignore_index=True)\n",
            "<ipython-input-38-0cb86b786de4>:3: FutureWarning: The frame.append method is deprecated and will be removed from pandas in a future version. Use pandas.concat instead.\n",
            "  grouped_prem_stats = grouped_prem_stats.append({'Crime Category': group, 'Count': group_count}, ignore_index=True)\n"
          ]
        }
      ]
    },
    {
      "cell_type": "code",
      "source": [
        "plt.figure(figsize=(8, 8))\n",
        "plt.pie(grouped_prem_stats['Count'], labels=grouped_prem_stats['Crime Category'], startangle=140)\n",
        "plt.title('Crime Counts for Single Family Homes (Grouped)')\n",
        "plt.axis('equal')\n",
        "plt.show()"
      ],
      "metadata": {
        "colab": {
          "base_uri": "https://localhost:8080/",
          "height": 675
        },
        "id": "PFZ8BkRCIFN_",
        "outputId": "f8f36173-b041-4026-dfd8-e3da5be006f9"
      },
      "execution_count": 39,
      "outputs": [
        {
          "output_type": "display_data",
          "data": {
            "text/plain": [
              "<Figure size 800x800 with 1 Axes>"
            ],
            "image/png": "[encoded data removed]"
          },
          "metadata": {}
        }
      ]
    },
    {
      "cell_type": "markdown",
      "source": [
        "Lastly, I wanted to look at the time of day most crimes were committed. I started by seperating out the time info from the OCCURED ON CATEGORY"
      ],
      "metadata": {
        "id": "IrA3x_hrS7-Q"
      }
    },
    {
      "cell_type": "code",
      "source": [
        "from datetime import datetime"
      ],
      "metadata": {
        "id": "_FZPX3BVTH8Q"
      },
      "execution_count": 40,
      "outputs": []
    },
    {
      "cell_type": "code",
      "source": [
        "df_single_home = crime_data[crime_data['PREMISE TYPE'] == 'SINGLE FAMILY HOUSE'].copy()"
      ],
      "metadata": {
        "id": "saXfpcjOTO-I"
      },
      "execution_count": 41,
      "outputs": []
    },
    {
      "cell_type": "markdown",
      "source": [
        "I kept running into an error in the below code so after research I added .copy() which fixed it"
      ],
      "metadata": {
        "id": "cymYRvh6cChQ"
      }
    },
    {
      "cell_type": "code",
      "source": [
        "df_single_home['OCCURRED ON'] = pd.to_datetime(df_single_home['OCCURRED ON'], errors='coerce')"
      ],
      "metadata": {
        "id": "L_3ETSZ3TYrC"
      },
      "execution_count": 46,
      "outputs": []
    },
    {
      "cell_type": "code",
      "source": [
        "def categorize_time_of_day(time):\n",
        "  hour = time.hour\n",
        "  if 0 <= hour < 6:\n",
        "    return 'Early Morning'\n",
        "  elif 6 <= hour < 11:\n",
        "    return 'Morning'\n",
        "  elif 11 <= hour < 13:\n",
        "    return 'Midday'\n",
        "  elif 13 <= hour < 16:\n",
        "    return 'Afternoon'\n",
        "  elif 16 <= hour < 19:\n",
        "    return 'Evening'\n",
        "  else:\n",
        "    return 'Night'"
      ],
      "metadata": {
        "id": "j2k56oQqeOP8"
      },
      "execution_count": 54,
      "outputs": []
    },
    {
      "cell_type": "code",
      "source": [
        "df_single_home['Time of Day'] = df_single_home['OCCURRED ON'].apply(categorize_time_of_day)"
      ],
      "metadata": {
        "id": "Cyb016sLTqJ0"
      },
      "execution_count": 55,
      "outputs": []
    },
    {
      "cell_type": "code",
      "source": [
        "crime_count_per_time_of_day = df_single_home['Time of Day'].value_counts()"
      ],
      "metadata": {
        "id": "Z-zNYgX2gscF"
      },
      "execution_count": 57,
      "outputs": []
    },
    {
      "cell_type": "code",
      "source": [
        "print(crime_count_per_time_of_day)"
      ],
      "metadata": {
        "colab": {
          "base_uri": "https://localhost:8080/"
        },
        "id": "wieUtHPjgtvy",
        "outputId": "a370acfe-9eb4-4c21-9957-44cd592aad0a"
      },
      "execution_count": 58,
      "outputs": [
        {
          "output_type": "stream",
          "name": "stdout",
          "text": [
            "Morning          6380\n",
            "Night            5190\n",
            "Early Morning    4357\n",
            "Evening          3441\n",
            "Afternoon        3077\n",
            "Midday           2883\n",
            "Name: Time of Day, dtype: int64\n"
          ]
        }
      ]
    },
    {
      "cell_type": "code",
      "source": [
        "time_of_day_order = ['Early Morning','Morning', 'Midday', 'Afternoon', 'Evening', 'Night']\n"
      ],
      "metadata": {
        "id": "HWzqJgQRhK7d"
      },
      "execution_count": 60,
      "outputs": []
    },
    {
      "cell_type": "code",
      "source": [
        "crime_count_ordered = crime_count_per_time_of_day.loc[time_of_day_order]"
      ],
      "metadata": {
        "id": "nw_LhorGknlV"
      },
      "execution_count": 73,
      "outputs": []
    },
    {
      "cell_type": "code",
      "source": [
        "plt.figure(figsize=(10, 6))\n",
        "plt.bar(crime_count_ordered.index, crime_count_ordered.values)\n",
        "plt.xlabel('Time of Day')\n",
        "plt.ylabel('Number of Crimes')\n",
        "plt.title('Crime Counts per Time of Day')\n",
        "plt.xticks(rotation=20)\n",
        "plt.tight_layout()\n",
        "plt.show()"
      ],
      "metadata": {
        "colab": {
          "base_uri": "https://localhost:8080/",
          "height": 607
        },
        "id": "a0vpmhQciulm",
        "outputId": "5e1d0c10-604d-43b7-aee1-80f4e53c8fad"
      },
      "execution_count": 74,
      "outputs": [
        {
          "output_type": "display_data",
          "data": {
            "text/plain": [
              "<Figure size 1000x600 with 1 Axes>"
            ],
            "image/png": "[encoded data removed]"
          },
          "metadata": {}
        }
      ]
    },
    {
      "cell_type": "markdown",
      "source": [
        "This was really interesting to me because I expected most of the crimes to occur at night not during the day"
      ],
      "metadata": {
        "id": "UhWU1gKGl5ID"
      }
    }
  ]
}
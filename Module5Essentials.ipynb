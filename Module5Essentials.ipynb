{
  "cells": [
    {
      "cell_type": "markdown",
      "metadata": {
        "id": "view-in-github",
        "colab_type": "text"
      },
      "source": [
        "<a href=\"https://colab.research.google.com/github/ekaterga/stc510/blob/main/Module5Essentials.ipynb\" target=\"_parent\"><img src=\"https://colab.research.google.com/assets/colab-badge.svg\" alt=\"Open In Colab\"/></a>"
      ]
    },
    {
      "cell_type": "code",
      "execution_count": 2,
      "metadata": {
        "id": "Kn4tTPfiE9ck"
      },
      "outputs": [],
      "source": [
        "import json\n",
        "import pandas as pd\n",
        "from sklearn.feature_extraction.text import CountVectorizer\n",
        "from sklearn.model_selection import train_test_split\n",
        "from sklearn.naive_bayes import MultinomialNB\n",
        "from sklearn.metrics import accuracy_score\n",
        "from sklearn.svm import SVC\n",
        "from sklearn.feature_extraction.text import TfidfVectorizer"
      ]
    },
    {
      "cell_type": "code",
      "execution_count": 3,
      "metadata": {
        "id": "vNxBo26ZHvs_"
      },
      "outputs": [],
      "source": [
        "with open('jeopardy.json', 'r') as file:\n",
        "  data_dict = json.load(file)"
      ]
    },
    {
      "cell_type": "code",
      "execution_count": 4,
      "metadata": {
        "id": "L_-XnIpFI5jK"
      },
      "outputs": [],
      "source": [
        "data = pd.DataFrame(data_dict)"
      ]
    },
    {
      "cell_type": "code",
      "execution_count": 5,
      "metadata": {
        "id": "wZ_QIMGRK7fW"
      },
      "outputs": [],
      "source": [
        "data['value'] = data['value'].astype(str).replace('[\\$,]', '', regex=True)\n",
        "data['value'] = pd.to_numeric(data['value'], errors='coerce').fillna(0).astype(int)"
      ]
    },
    {
      "cell_type": "code",
      "execution_count": 6,
      "metadata": {
        "id": "hYcCmZfi4tDv"
      },
      "outputs": [],
      "source": [
        "data['value_class'] = data['value'].apply(lambda x: 'high' if x >= 800 else 'low')"
      ]
    },
    {
      "cell_type": "markdown",
      "source": [
        "Taking out columns that are not relevant to the project"
      ],
      "metadata": {
        "id": "QmQI4e5XvPFe"
      }
    },
    {
      "cell_type": "code",
      "source": [
        "cleaned_data = data.drop(columns=['category', 'air_date', 'round', 'show_number', 'value'])"
      ],
      "metadata": {
        "id": "DQK5hyW9vOmy"
      },
      "execution_count": 7,
      "outputs": []
    },
    {
      "cell_type": "code",
      "source": [
        "print(cleaned_data)"
      ],
      "metadata": {
        "colab": {
          "base_uri": "https://localhost:8080/"
        },
        "id": "OnlnbnkSvf8p",
        "outputId": "a29af897-c72d-4c1e-fe67-7f3374cd66a1"
      },
      "execution_count": 8,
      "outputs": [
        {
          "output_type": "stream",
          "name": "stdout",
          "text": [
            "                                                 question  \\\n",
            "0       'For the last 8 years of his life, Galileo was...   \n",
            "1       'No. 2: 1912 Olympian; football star at Carlis...   \n",
            "2       'The city of Yuma in this state has a record a...   \n",
            "3       'In 1963, live on \"The Art Linkletter Show\", t...   \n",
            "4       'Signer of the Dec. of Indep., framer of the C...   \n",
            "...                                                   ...   \n",
            "216925  'This Puccini opera turns on the solution to 3...   \n",
            "216926  'In North America this term is properly applie...   \n",
            "216927  'In Penny Lane, where this \"Hellraiser\" grew u...   \n",
            "216928  'From Ft. Sill, Okla. he made the plea, Arizon...   \n",
            "216929  'A silent movie title includes the last name o...   \n",
            "\n",
            "                                answer value_class  \n",
            "0                           Copernicus         low  \n",
            "1                           Jim Thorpe         low  \n",
            "2                              Arizona         low  \n",
            "3                          McDonald\\'s         low  \n",
            "4                           John Adams         low  \n",
            "...                                ...         ...  \n",
            "216925                        Turandot        high  \n",
            "216926                      a titmouse        high  \n",
            "216927                    Clive Barker        high  \n",
            "216928                        Geronimo        high  \n",
            "216929  Grigori Alexandrovich Potemkin         low  \n",
            "\n",
            "[216930 rows x 3 columns]\n"
          ]
        }
      ]
    },
    {
      "cell_type": "markdown",
      "metadata": {
        "id": "4MLIxXdOKir6"
      },
      "source": [
        "I decided that for the essentials project I was going to convert the data into TFIDF vectors and then train a SVM classifier to predict the question values. I was about 4 hours in to letting the SVM classifier train and my runtime disconnected so I decided to pivot and only look at a fraction of the dataset. Only using half of it took about an hour. If you would like me to redo the assignment I can also just let it run but I was worried since it got stuck. When troubleshooting it was suggested that there was mssing data which I looked at further down in the code but discovered there is no missing data."
      ]
    },
    {
      "cell_type": "code",
      "source": [
        "subset_data = cleaned_data.sample(frac=0.50, random_state=42)"
      ],
      "metadata": {
        "id": "V4Ns0i0AUwAR"
      },
      "execution_count": 9,
      "outputs": []
    },
    {
      "cell_type": "code",
      "source": [
        "X_subset = subset_data['question']\n",
        "y_subset = subset_data['value_class']"
      ],
      "metadata": {
        "id": "wne1TuXVUyn_"
      },
      "execution_count": 11,
      "outputs": []
    },
    {
      "cell_type": "code",
      "execution_count": 13,
      "metadata": {
        "id": "_8l5FPVIDnrK"
      },
      "outputs": [],
      "source": [
        "tfidf_vectorizer = TfidfVectorizer()\n",
        "X_tfidf_subset = tfidf_vectorizer.fit_transform(X_subset)"
      ]
    },
    {
      "cell_type": "code",
      "source": [
        "X_train_subset, X_test_subset, y_train_subset, y_test_subset = train_test_split(X_tfidf_subset, y_subset, test_size=0.2, random_state=42)"
      ],
      "metadata": {
        "id": "ccHfMTT9VMXv"
      },
      "execution_count": 14,
      "outputs": []
    },
    {
      "cell_type": "code",
      "source": [
        "svm_classifier_subset = SVC()\n",
        "svm_classifier_subset.fit(X_train_subset, y_train_subset)"
      ],
      "metadata": {
        "colab": {
          "base_uri": "https://localhost:8080/",
          "height": 74
        },
        "id": "6dm1V8LbVRRN",
        "outputId": "3b6905b4-6517-47f4-ca33-7b274c88f9cd"
      },
      "execution_count": 15,
      "outputs": [
        {
          "output_type": "execute_result",
          "data": {
            "text/plain": [
              "SVC()"
            ],
            "text/html": [
              "<style>#sk-container-id-1 {color: black;background-color: white;}#sk-container-id-1 pre{padding: 0;}#sk-container-id-1 div.sk-toggleable {background-color: white;}#sk-container-id-1 label.sk-toggleable__label {cursor: pointer;display: block;width: 100%;margin-bottom: 0;padding: 0.3em;box-sizing: border-box;text-align: center;}#sk-container-id-1 label.sk-toggleable__label-arrow:before {content: \"▸\";float: left;margin-right: 0.25em;color: #696969;}#sk-container-id-1 label.sk-toggleable__label-arrow:hover:before {color: black;}#sk-container-id-1 div.sk-estimator:hover label.sk-toggleable__label-arrow:before {color: black;}#sk-container-id-1 div.sk-toggleable__content {max-height: 0;max-width: 0;overflow: hidden;text-align: left;background-color: #f0f8ff;}#sk-container-id-1 div.sk-toggleable__content pre {margin: 0.2em;color: black;border-radius: 0.25em;background-color: #f0f8ff;}#sk-container-id-1 input.sk-toggleable__control:checked~div.sk-toggleable__content {max-height: 200px;max-width: 100%;overflow: auto;}#sk-container-id-1 input.sk-toggleable__control:checked~label.sk-toggleable__label-arrow:before {content: \"▾\";}#sk-container-id-1 div.sk-estimator input.sk-toggleable__control:checked~label.sk-toggleable__label {background-color: #d4ebff;}#sk-container-id-1 div.sk-label input.sk-toggleable__control:checked~label.sk-toggleable__label {background-color: #d4ebff;}#sk-container-id-1 input.sk-hidden--visually {border: 0;clip: rect(1px 1px 1px 1px);clip: rect(1px, 1px, 1px, 1px);height: 1px;margin: -1px;overflow: hidden;padding: 0;position: absolute;width: 1px;}#sk-container-id-1 div.sk-estimator {font-family: monospace;background-color: #f0f8ff;border: 1px dotted black;border-radius: 0.25em;box-sizing: border-box;margin-bottom: 0.5em;}#sk-container-id-1 div.sk-estimator:hover {background-color: #d4ebff;}#sk-container-id-1 div.sk-parallel-item::after {content: \"\";width: 100%;border-bottom: 1px solid gray;flex-grow: 1;}#sk-container-id-1 div.sk-label:hover label.sk-toggleable__label {background-color: #d4ebff;}#sk-container-id-1 div.sk-serial::before {content: \"\";position: absolute;border-left: 1px solid gray;box-sizing: border-box;top: 0;bottom: 0;left: 50%;z-index: 0;}#sk-container-id-1 div.sk-serial {display: flex;flex-direction: column;align-items: center;background-color: white;padding-right: 0.2em;padding-left: 0.2em;position: relative;}#sk-container-id-1 div.sk-item {position: relative;z-index: 1;}#sk-container-id-1 div.sk-parallel {display: flex;align-items: stretch;justify-content: center;background-color: white;position: relative;}#sk-container-id-1 div.sk-item::before, #sk-container-id-1 div.sk-parallel-item::before {content: \"\";position: absolute;border-left: 1px solid gray;box-sizing: border-box;top: 0;bottom: 0;left: 50%;z-index: -1;}#sk-container-id-1 div.sk-parallel-item {display: flex;flex-direction: column;z-index: 1;position: relative;background-color: white;}#sk-container-id-1 div.sk-parallel-item:first-child::after {align-self: flex-end;width: 50%;}#sk-container-id-1 div.sk-parallel-item:last-child::after {align-self: flex-start;width: 50%;}#sk-container-id-1 div.sk-parallel-item:only-child::after {width: 0;}#sk-container-id-1 div.sk-dashed-wrapped {border: 1px dashed gray;margin: 0 0.4em 0.5em 0.4em;box-sizing: border-box;padding-bottom: 0.4em;background-color: white;}#sk-container-id-1 div.sk-label label {font-family: monospace;font-weight: bold;display: inline-block;line-height: 1.2em;}#sk-container-id-1 div.sk-label-container {text-align: center;}#sk-container-id-1 div.sk-container {/* jupyter's `normalize.less` sets `[hidden] { display: none; }` but bootstrap.min.css set `[hidden] { display: none !important; }` so we also need the `!important` here to be able to override the default hidden behavior on the sphinx rendered scikit-learn.org. See: https://github.com/scikit-learn/scikit-learn/issues/21755 */display: inline-block !important;position: relative;}#sk-container-id-1 div.sk-text-repr-fallback {display: none;}</style><div id=\"sk-container-id-1\" class=\"sk-top-container\"><div class=\"sk-text-repr-fallback\"><pre>SVC()</pre><b>In a Jupyter environment, please rerun this cell to show the HTML representation or trust the notebook. <br />On GitHub, the HTML representation is unable to render, please try loading this page with nbviewer.org.</b></div><div class=\"sk-container\" hidden><div class=\"sk-item\"><div class=\"sk-estimator sk-toggleable\"><input class=\"sk-toggleable__control sk-hidden--visually\" id=\"sk-estimator-id-1\" type=\"checkbox\" checked><label for=\"sk-estimator-id-1\" class=\"sk-toggleable__label sk-toggleable__label-arrow\">SVC</label><div class=\"sk-toggleable__content\"><pre>SVC()</pre></div></div></div></div></div>"
            ]
          },
          "metadata": {},
          "execution_count": 15
        }
      ]
    },
    {
      "cell_type": "code",
      "source": [
        "y_pred_subset = svm_classifier_subset.predict(X_test_subset)"
      ],
      "metadata": {
        "id": "2qz8EncUVS6B"
      },
      "execution_count": 16,
      "outputs": []
    },
    {
      "cell_type": "code",
      "source": [
        "accuracy_subset = accuracy_score(y_test_subset, y_pred_subset)\n",
        "print(\"Accuracy on subset:\", accuracy_subset)"
      ],
      "metadata": {
        "colab": {
          "base_uri": "https://localhost:8080/"
        },
        "id": "Z4Oh7Yv6VXz_",
        "outputId": "f6cc1cd8-ebd3-4464-e995-82578cc4c46e"
      },
      "execution_count": 17,
      "outputs": [
        {
          "output_type": "stream",
          "name": "stdout",
          "text": [
            "Accuracy on subset: 0.5897294057991057\n"
          ]
        }
      ]
    },
    {
      "cell_type": "code",
      "source": [
        "print(\"Missing values:\", cleaned_data.isnull().sum())"
      ],
      "metadata": {
        "id": "2AdGw4osnKik",
        "outputId": "2288a94f-71fb-4d2a-a2d8-8a59859e7d07",
        "colab": {
          "base_uri": "https://localhost:8080/"
        }
      },
      "execution_count": 18,
      "outputs": [
        {
          "output_type": "stream",
          "name": "stdout",
          "text": [
            "Missing values: question       0\n",
            "answer         0\n",
            "value_class    0\n",
            "dtype: int64\n"
          ]
        }
      ]
    }
  ],
  "metadata": {
    "colab": {
      "provenance": [],
      "authorship_tag": "ABX9TyOyOjhL+QFw89BP4C0uY9VQ",
      "include_colab_link": true
    },
    "kernelspec": {
      "display_name": "Python 3",
      "name": "python3"
    },
    "language_info": {
      "name": "python"
    }
  },
  "nbformat": 4,
  "nbformat_minor": 0
}